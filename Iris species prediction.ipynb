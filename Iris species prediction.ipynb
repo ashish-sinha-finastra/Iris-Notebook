{
 "cells": [
  {
   "cell_type": "markdown",
   "metadata": {},
   "source": [
    "# Fusion Retail Analytics\n",
    "**** \n",
    "This is a machine learning demo, to provide a sneek peak into the machine learning process.   \n",
    "\n",
    "                                                                                                      Demo by : Ashish Sinha\n",
    "                                                                                                      \n",
    "***                                                                                                           "
   ]
  },
  {
   "cell_type": "markdown",
   "metadata": {},
   "source": [
    "# Problem statement : Identify the flower species\n",
    "\n",
    "We will be analyzing **\"Iris flower data set\"** and predicting the species, based on provided input features.     \n",
    "Dataset can be downloaded from [this link](https://archive.ics.uci.edu/ml/datasets/iris)"
   ]
  },
  {
   "cell_type": "markdown",
   "metadata": {},
   "source": [
    "### Data set description\n",
    "\n",
    "This data set has cleaned up data for three species of [Iris flowers](https://en.wikipedia.org/wiki/Iris_(plant))     \n",
    "\n",
    "1. Iris setosa          \n",
    "1. Iris virginica      \n",
    "1. Iris versicolor\n",
    "\n",
    "Data consists of following columns(features)\n",
    "\n",
    "1. sepal length       \n",
    "1. sepal width      \n",
    "1. petal length       \n",
    "1. petal width      \n",
    "1. species (Labeled column)  "
   ]
  },
  {
   "cell_type": "markdown",
   "metadata": {},
   "source": [
    "#### Iris flower image\n",
    "<table style=\"width:100%;\"><tr>\n",
    "<td>\n",
    "<img src=\"Iris.jpg\" style=\"width:200px;height:200px;\">\n",
    "</td><td>\n",
    "<img src=\"versicolor.jpg\" style=\"width:200px;height:200px;\"></td>\n",
    "</tr></table>    "
   ]
  },
  {
   "cell_type": "markdown",
   "metadata": {},
   "source": [
    "### Methodology\n",
    "\n",
    "Usually following steps are performed in a machine learning project:    \n",
    "1. Data extraction\n",
    "1. Data clean up\n",
    "1. Data exploration\n",
    "1. Data split for training and testing/validation\n",
    "1. Model training\n",
    "1. Model validation\n",
    "1. Model selection\n",
    "\n",
    "Here we will evaluate two models (algorithms)    \n",
    "1. Logistic Regression     \n",
    "2. Random Forest Classifier     "
   ]
  },
  {
   "cell_type": "markdown",
   "metadata": {},
   "source": [
    "### Details about libraries / packages used.\n",
    "\n",
    "##### Pandas    \n",
    "This package is used for reading and processing data.     \n",
    "The basic datastructure is called **Dataframe** and resembles with a table.     \n",
    "It stores data is row-column format.     \n",
    "For more information refer to [this link.](https://pandas.pydata.org/)\n",
    "\n",
    "#### Numpy   \n",
    "Numerical-python (scientific computing).    \n",
    "This package provides a lot of numerical/statistical methods for data manipulation.    \n",
    "Numpy represents data as multidimensional array/matrics.      \n",
    "For more information refer to [this link.](https://numpy.org/)\n",
    "\n",
    "#### matplotlib     \n",
    "This is a package to draw plots/charts.         \n",
    "For more information refer to [this link.](https://matplotlib.org/)  \n",
    "\n",
    "#### seaborn      \n",
    "This is also used to draw plots/charts.   \n",
    "Seaborn is a wrapper on top of matplotlib.     \n",
    "For more information refer to [this link.](https://seaborn.pydata.org/)  \n",
    "\n",
    "#### PyLab       \n",
    "PyLab is a procedural interface to the Matplotlib object-oriented plotting library.     \n",
    "\n",
    "#### sklearn     \n",
    "This is a Python machine learning library with a lot of useful features.      \n",
    "For more information refer to [this link.](https://scikit-learn.org/stable/)      "
   ]
  },
  {
   "cell_type": "markdown",
   "metadata": {},
   "source": [
    "### Imports"
   ]
  },
  {
   "cell_type": "code",
   "execution_count": 1,
   "metadata": {
    "ExecuteTime": {
     "end_time": "2020-09-30T11:35:25.329863Z",
     "start_time": "2020-09-30T11:35:23.114190Z"
    }
   },
   "outputs": [
    {
     "name": "stderr",
     "output_type": "stream",
     "text": [
      "In C:\\ProgramData\\Anaconda3\\lib\\site-packages\\matplotlib\\mpl-data\\stylelib\\_classic_test.mplstyle: \n",
      "The savefig.frameon rcparam was deprecated in Matplotlib 3.1 and will be removed in 3.3.\n",
      "In C:\\ProgramData\\Anaconda3\\lib\\site-packages\\matplotlib\\mpl-data\\stylelib\\_classic_test.mplstyle: \n",
      "The verbose.level rcparam was deprecated in Matplotlib 3.1 and will be removed in 3.3.\n",
      "In C:\\ProgramData\\Anaconda3\\lib\\site-packages\\matplotlib\\mpl-data\\stylelib\\_classic_test.mplstyle: \n",
      "The verbose.fileo rcparam was deprecated in Matplotlib 3.1 and will be removed in 3.3.\n"
     ]
    }
   ],
   "source": [
    "import pandas as pd\n",
    "from pandas import read_csv\n",
    "from pandas import DataFrame\n",
    "\n",
    "import numpy as np\n",
    "from pylab import rcParams\n",
    "import seaborn as sns\n",
    "\n",
    "from matplotlib        import pyplot as plt\n",
    "from matplotlib        import style\n",
    "from matplotlib.pyplot import figure\n",
    "\n",
    "from sklearn.preprocessing   import LabelEncoder\n",
    "from sklearn.model_selection import train_test_split\n",
    "from sklearn.linear_model    import LogisticRegression\n",
    "from sklearn.ensemble        import RandomForestClassifier\n",
    "from sklearn.metrics         import accuracy_score,confusion_matrix, classification_report\n",
    "\n",
    "## Options for image size ##\n",
    "\n",
    "%matplotlib inline\n",
    "rcParams['figure.figsize'] = 25, 15\n",
    "\n",
    "## Options for Pandas DATAFRAME display ##\n",
    "\n",
    "pd.set_option('display.max_rows', None)\n",
    "pd.set_option('display.max_columns', None)\n",
    "pd.set_option('display.width', None)\n",
    "pd.set_option('display.max_colwidth', -1)\n",
    "pd.set_option('display.float_format', lambda x: '%.10f' % x)\n",
    "\n",
    "## Ignore warnings ##\n",
    "\n",
    "import warnings\n",
    "warnings.filterwarnings('ignore')"
   ]
  },
  {
   "cell_type": "markdown",
   "metadata": {},
   "source": [
    "# Data extraction and cleaning \n",
    "Here using the Pandas package we are reading the csv file, which has the data into a dataframe **df**.    \n",
    "After that we are looking into the **top 5 rows** from this data."
   ]
  },
  {
   "cell_type": "markdown",
   "metadata": {},
   "source": [
    "```      \n",
    "df.head(n)    \n",
    "*********       \n",
    "Use df.head(n) to view top n rows from data. If number is not given, 5 is taken as defualt.    \n",
    "\n",
    "df.tail(n)    \n",
    "**********      \n",
    "Similarly use df.tail(n) for last n rows. Again 5 is used as default, if no number is given.\n",
    "\n",
    "pd.read_csv(file_name)    \n",
    "**********************      \n",
    "This command is used to read the csv file and load data into the dataframe.     \n",
    "\n",
    "```"
   ]
  },
  {
   "cell_type": "code",
   "execution_count": 2,
   "metadata": {
    "ExecuteTime": {
     "end_time": "2020-09-30T11:35:25.338921Z",
     "start_time": "2020-09-30T11:35:25.331881Z"
    }
   },
   "outputs": [],
   "source": [
    "df = pd.read_csv('iris.csv')"
   ]
  },
  {
   "cell_type": "code",
   "execution_count": 3,
   "metadata": {
    "ExecuteTime": {
     "end_time": "2020-09-30T11:35:25.361976Z",
     "start_time": "2020-09-30T11:35:25.340891Z"
    }
   },
   "outputs": [
    {
     "data": {
      "text/html": [
       "<div>\n",
       "<style scoped>\n",
       "    .dataframe tbody tr th:only-of-type {\n",
       "        vertical-align: middle;\n",
       "    }\n",
       "\n",
       "    .dataframe tbody tr th {\n",
       "        vertical-align: top;\n",
       "    }\n",
       "\n",
       "    .dataframe thead th {\n",
       "        text-align: right;\n",
       "    }\n",
       "</style>\n",
       "<table border=\"1\" class=\"dataframe\">\n",
       "  <thead>\n",
       "    <tr style=\"text-align: right;\">\n",
       "      <th></th>\n",
       "      <th>sepal length</th>\n",
       "      <th>sepal width</th>\n",
       "      <th>petal length</th>\n",
       "      <th>petal width</th>\n",
       "      <th>species</th>\n",
       "    </tr>\n",
       "  </thead>\n",
       "  <tbody>\n",
       "    <tr>\n",
       "      <th>0</th>\n",
       "      <td>5.1000000000</td>\n",
       "      <td>3.5000000000</td>\n",
       "      <td>1.4000000000</td>\n",
       "      <td>0.2000000000</td>\n",
       "      <td>Iris-setosa</td>\n",
       "    </tr>\n",
       "    <tr>\n",
       "      <th>1</th>\n",
       "      <td>4.9000000000</td>\n",
       "      <td>3.0000000000</td>\n",
       "      <td>1.4000000000</td>\n",
       "      <td>0.2000000000</td>\n",
       "      <td>Iris-setosa</td>\n",
       "    </tr>\n",
       "    <tr>\n",
       "      <th>2</th>\n",
       "      <td>4.7000000000</td>\n",
       "      <td>3.2000000000</td>\n",
       "      <td>1.3000000000</td>\n",
       "      <td>0.2000000000</td>\n",
       "      <td>Iris-setosa</td>\n",
       "    </tr>\n",
       "    <tr>\n",
       "      <th>3</th>\n",
       "      <td>4.6000000000</td>\n",
       "      <td>3.1000000000</td>\n",
       "      <td>1.5000000000</td>\n",
       "      <td>0.2000000000</td>\n",
       "      <td>Iris-setosa</td>\n",
       "    </tr>\n",
       "    <tr>\n",
       "      <th>4</th>\n",
       "      <td>5.0000000000</td>\n",
       "      <td>3.6000000000</td>\n",
       "      <td>1.4000000000</td>\n",
       "      <td>0.2000000000</td>\n",
       "      <td>Iris-setosa</td>\n",
       "    </tr>\n",
       "  </tbody>\n",
       "</table>\n",
       "</div>"
      ],
      "text/plain": [
       "   sepal length  sepal width  petal length  petal width      species\n",
       "0 5.1000000000  3.5000000000 1.4000000000  0.2000000000  Iris-setosa\n",
       "1 4.9000000000  3.0000000000 1.4000000000  0.2000000000  Iris-setosa\n",
       "2 4.7000000000  3.2000000000 1.3000000000  0.2000000000  Iris-setosa\n",
       "3 4.6000000000  3.1000000000 1.5000000000  0.2000000000  Iris-setosa\n",
       "4 5.0000000000  3.6000000000 1.4000000000  0.2000000000  Iris-setosa"
      ]
     },
     "execution_count": 3,
     "metadata": {},
     "output_type": "execute_result"
    }
   ],
   "source": [
    "df.head(5)"
   ]
  },
  {
   "cell_type": "code",
   "execution_count": 4,
   "metadata": {
    "ExecuteTime": {
     "end_time": "2020-09-30T11:35:25.372978Z",
     "start_time": "2020-09-30T11:35:25.365457Z"
    }
   },
   "outputs": [
    {
     "name": "stdout",
     "output_type": "stream",
     "text": [
      "Iris-setosa        50\n",
      "Iris-versicolor    50\n",
      "Iris-virginica     50\n",
      "Name: species, dtype: int64\n"
     ]
    }
   ],
   "source": [
    "species_count = df.species.value_counts()\n",
    "print(species_count)"
   ]
  },
  {
   "cell_type": "markdown",
   "metadata": {},
   "source": [
    "### Exploratory Data Analysis\n",
    "In statistics, exploratory data analysis (EDA) is an approach to analyzing data sets to summarize their main characteristics, often with visual methods."
   ]
  },
  {
   "cell_type": "markdown",
   "metadata": {},
   "source": [
    "\n",
    "```    \n",
    "df.shape()  \n",
    "********** \n",
    "This command shows the number of rows and columns in the dataframe.\n",
    "Output is in the form : (rows,columns)     \n",
    "\n",
    "df.isnull()      \n",
    "***********\n",
    "This command provides the null rows in the dataset.    \n",
    "\n",
    "df.isnull().sum()\n",
    "*****************      \n",
    "This command collects the nulls and groups them.     \n",
    "Here we can see the chaining of commands in Python.     \n",
    "\n",
    "df.describe()      \n",
    "*************     \n",
    "This commands provides very useful statistics about the dataset.\n",
    "\n",
    "df.corr()     \n",
    "*********     \n",
    "This command provides the correlation of all the features to each other.\n",
    "\n",
    "```"
   ]
  },
  {
   "cell_type": "code",
   "execution_count": 5,
   "metadata": {
    "ExecuteTime": {
     "end_time": "2020-09-30T11:35:25.384006Z",
     "start_time": "2020-09-30T11:35:25.375985Z"
    }
   },
   "outputs": [
    {
     "name": "stdout",
     "output_type": "stream",
     "text": [
      "(150, 5)\n"
     ]
    }
   ],
   "source": [
    "print(df.shape)"
   ]
  },
  {
   "cell_type": "code",
   "execution_count": 6,
   "metadata": {
    "ExecuteTime": {
     "end_time": "2020-09-30T11:35:25.396571Z",
     "start_time": "2020-09-30T11:35:25.386011Z"
    }
   },
   "outputs": [
    {
     "name": "stdout",
     "output_type": "stream",
     "text": [
      "sepal length    0\n",
      "sepal width     0\n",
      "petal length    0\n",
      "petal width     0\n",
      "species         0\n",
      "dtype: int64\n"
     ]
    }
   ],
   "source": [
    "print(df.isnull().sum())"
   ]
  },
  {
   "cell_type": "code",
   "execution_count": 7,
   "metadata": {
    "ExecuteTime": {
     "end_time": "2020-09-30T11:35:25.424620Z",
     "start_time": "2020-09-30T11:35:25.399046Z"
    }
   },
   "outputs": [
    {
     "name": "stdout",
     "output_type": "stream",
     "text": [
      "        sepal length    sepal width   petal length    petal width\n",
      "count 150.0000000000 150.0000000000 150.0000000000 150.0000000000\n",
      "mean  5.8433333333   3.0540000000   3.7586666667   1.1986666667  \n",
      "std   0.8280661280   0.4335943114   1.7644204200   0.7631607417  \n",
      "min   4.3000000000   2.0000000000   1.0000000000   0.1000000000  \n",
      "25%   5.1000000000   2.8000000000   1.6000000000   0.3000000000  \n",
      "50%   5.8000000000   3.0000000000   4.3500000000   1.3000000000  \n",
      "75%   6.4000000000   3.3000000000   5.1000000000   1.8000000000  \n",
      "max   7.9000000000   4.4000000000   6.9000000000   2.5000000000  \n"
     ]
    }
   ],
   "source": [
    "print(df.describe())"
   ]
  },
  {
   "cell_type": "code",
   "execution_count": 8,
   "metadata": {
    "ExecuteTime": {
     "end_time": "2020-09-30T11:35:25.434141Z",
     "start_time": "2020-09-30T11:35:25.428123Z"
    }
   },
   "outputs": [
    {
     "name": "stdout",
     "output_type": "stream",
     "text": [
      "              sepal length   sepal width  petal length   petal width\n",
      "sepal length 1.0000000000  -0.1093692500 0.8717541573  0.8179536334 \n",
      "sepal width  -0.1093692500 1.0000000000  -0.4205160964 -0.3565440896\n",
      "petal length 0.8717541573  -0.4205160964 1.0000000000  0.9627570971 \n",
      "petal width  0.8179536334  -0.3565440896 0.9627570971  1.0000000000 \n"
     ]
    }
   ],
   "source": [
    "print(df.corr())"
   ]
  },
  {
   "cell_type": "markdown",
   "metadata": {},
   "source": [
    "### Data Visualisation\n",
    "Often it is helpful to view the stats, instead of reading about them.      \n",
    "This visual examination provides some very useful insights.       \n",
    "Here in this example, we are plotting **\"pairplots\"** to see the relationships between, various features.   "
   ]
  },
  {
   "cell_type": "markdown",
   "metadata": {},
   "source": [
    "```    \n",
    "sns.pairplot(df, hue = feature)    \n",
    "*********************************            \n",
    "This command from seaborn package is used to plot pairplot.     \n",
    "Here we provide hue as the species to further differentiate.     \n",
    "``` "
   ]
  },
  {
   "cell_type": "code",
   "execution_count": 9,
   "metadata": {
    "ExecuteTime": {
     "end_time": "2020-09-30T11:35:30.082152Z",
     "start_time": "2020-09-30T11:35:25.435643Z"
    }
   },
   "outputs": [
    {
     "data": {
      "text/plain": [
       "<seaborn.axisgrid.PairGrid at 0x1fe743d7a48>"
      ]
     },
     "execution_count": 9,
     "metadata": {},
     "output_type": "execute_result"
    },
    {
     "data": {
      "image/png": "[encoded data removed]",
      "text/plain": [
       "<Figure size 823.25x720 with 20 Axes>"
      ]
     },
     "metadata": {
      "needs_background": "light"
     },
     "output_type": "display_data"
    }
   ],
   "source": [
    "sns.pairplot(df, hue = 'species')"
   ]
  },
  {
   "cell_type": "markdown",
   "metadata": {},
   "source": [
    "### Splitting data into training and testing      \n",
    "After EDA we are splitting data into two parts for model creation.    \n",
    "Conventionally X and y are used to denote, training and testing set.      "
   ]
  },
  {
   "cell_type": "markdown",
   "metadata": {},
   "source": [
    "```     \n",
    "df.drop(column_name, axis = 1)     \n",
    "******************************       \n",
    "This command is used to delete a column. axis = 1 means column only.      \n",
    "\n",
    "X_train, X_test, y_train, y_test = train_test_split(X, y, test_size = 0.30 , random_state = 1)    \n",
    "**********************************************************************************************      \n",
    "Here datasets having prefix \"X\" are training sets and having prefix \"y\" are testing sets.   \n",
    "\n",
    "test_size ==> This indicates the spilt ratio for training and testing sets.  \n",
    "              In this case training to testing ratio is 70:30.  \n",
    "\n",
    "```"
   ]
  },
  {
   "cell_type": "code",
   "execution_count": 10,
   "metadata": {
    "ExecuteTime": {
     "end_time": "2020-09-30T11:35:30.095690Z",
     "start_time": "2020-09-30T11:35:30.084662Z"
    }
   },
   "outputs": [
    {
     "data": {
      "text/html": [
       "<div>\n",
       "<style scoped>\n",
       "    .dataframe tbody tr th:only-of-type {\n",
       "        vertical-align: middle;\n",
       "    }\n",
       "\n",
       "    .dataframe tbody tr th {\n",
       "        vertical-align: top;\n",
       "    }\n",
       "\n",
       "    .dataframe thead th {\n",
       "        text-align: right;\n",
       "    }\n",
       "</style>\n",
       "<table border=\"1\" class=\"dataframe\">\n",
       "  <thead>\n",
       "    <tr style=\"text-align: right;\">\n",
       "      <th></th>\n",
       "      <th>sepal length</th>\n",
       "      <th>sepal width</th>\n",
       "      <th>petal length</th>\n",
       "      <th>petal width</th>\n",
       "    </tr>\n",
       "  </thead>\n",
       "  <tbody>\n",
       "    <tr>\n",
       "      <th>0</th>\n",
       "      <td>5.1000000000</td>\n",
       "      <td>3.5000000000</td>\n",
       "      <td>1.4000000000</td>\n",
       "      <td>0.2000000000</td>\n",
       "    </tr>\n",
       "    <tr>\n",
       "      <th>1</th>\n",
       "      <td>4.9000000000</td>\n",
       "      <td>3.0000000000</td>\n",
       "      <td>1.4000000000</td>\n",
       "      <td>0.2000000000</td>\n",
       "    </tr>\n",
       "    <tr>\n",
       "      <th>2</th>\n",
       "      <td>4.7000000000</td>\n",
       "      <td>3.2000000000</td>\n",
       "      <td>1.3000000000</td>\n",
       "      <td>0.2000000000</td>\n",
       "    </tr>\n",
       "    <tr>\n",
       "      <th>3</th>\n",
       "      <td>4.6000000000</td>\n",
       "      <td>3.1000000000</td>\n",
       "      <td>1.5000000000</td>\n",
       "      <td>0.2000000000</td>\n",
       "    </tr>\n",
       "    <tr>\n",
       "      <th>4</th>\n",
       "      <td>5.0000000000</td>\n",
       "      <td>3.6000000000</td>\n",
       "      <td>1.4000000000</td>\n",
       "      <td>0.2000000000</td>\n",
       "    </tr>\n",
       "  </tbody>\n",
       "</table>\n",
       "</div>"
      ],
      "text/plain": [
       "   sepal length  sepal width  petal length  petal width\n",
       "0 5.1000000000  3.5000000000 1.4000000000  0.2000000000\n",
       "1 4.9000000000  3.0000000000 1.4000000000  0.2000000000\n",
       "2 4.7000000000  3.2000000000 1.3000000000  0.2000000000\n",
       "3 4.6000000000  3.1000000000 1.5000000000  0.2000000000\n",
       "4 5.0000000000  3.6000000000 1.4000000000  0.2000000000"
      ]
     },
     "execution_count": 10,
     "metadata": {},
     "output_type": "execute_result"
    }
   ],
   "source": [
    "X = df.drop('species', axis = 1)\n",
    "X.head(5)"
   ]
  },
  {
   "cell_type": "code",
   "execution_count": 11,
   "metadata": {
    "ExecuteTime": {
     "end_time": "2020-09-30T11:35:30.117748Z",
     "start_time": "2020-09-30T11:35:30.098196Z"
    }
   },
   "outputs": [
    {
     "data": {
      "text/plain": [
       "0    Iris-setosa\n",
       "1    Iris-setosa\n",
       "2    Iris-setosa\n",
       "3    Iris-setosa\n",
       "4    Iris-setosa\n",
       "Name: species, dtype: object"
      ]
     },
     "execution_count": 11,
     "metadata": {},
     "output_type": "execute_result"
    }
   ],
   "source": [
    "y = df['species']\n",
    "y.head(5)"
   ]
  },
  {
   "cell_type": "code",
   "execution_count": 12,
   "metadata": {
    "ExecuteTime": {
     "end_time": "2020-09-30T11:35:30.138806Z",
     "start_time": "2020-09-30T11:35:30.125269Z"
    }
   },
   "outputs": [
    {
     "name": "stdout",
     "output_type": "stream",
     "text": [
      "(105, 4)\n",
      "(105,)\n",
      "(45, 4)\n",
      "(45,)\n"
     ]
    }
   ],
   "source": [
    "X_train, X_test, y_train, y_test = train_test_split(X, y, test_size = 0.30 , random_state = 1)\n",
    "\n",
    "print(X_train.shape)\n",
    "print(y_train.shape)\n",
    "print(X_test.shape)\n",
    "print(y_test.shape)"
   ]
  },
  {
   "cell_type": "markdown",
   "metadata": {},
   "source": [
    "# Building Machine Learning Models\n",
    "Here we are creating models for training and predictions.     \n",
    "Usually all the algorithms implemented(models) have common method names for same funtions.    \n",
    "Here **fit** methods are for training and **predict** methods are for predicitions."
   ]
  },
  {
   "cell_type": "markdown",
   "metadata": {},
   "source": [
    "#### Model 1 : Logistic Regression"
   ]
  },
  {
   "cell_type": "code",
   "execution_count": 13,
   "metadata": {
    "ExecuteTime": {
     "end_time": "2020-09-30T11:35:30.205517Z",
     "start_time": "2020-09-30T11:35:30.142818Z"
    }
   },
   "outputs": [],
   "source": [
    "lr = LogisticRegression()\n",
    "lr.fit(X_train, y_train)\n",
    "y_pred_lr = lr.predict(X_test)"
   ]
  },
  {
   "cell_type": "markdown",
   "metadata": {},
   "source": [
    "#### Model 2 : Random Forest Classifier"
   ]
  },
  {
   "cell_type": "code",
   "execution_count": 14,
   "metadata": {
    "ExecuteTime": {
     "end_time": "2020-09-30T11:35:30.350873Z",
     "start_time": "2020-09-30T11:35:30.206985Z"
    }
   },
   "outputs": [],
   "source": [
    "rfcl = RandomForestClassifier()\n",
    "rfcl.fit(X_train, y_train)\n",
    "y_pred_rf = rfcl.predict(X_test)"
   ]
  },
  {
   "cell_type": "markdown",
   "metadata": {},
   "source": [
    "# Prediction by the Models"
   ]
  },
  {
   "cell_type": "code",
   "execution_count": 15,
   "metadata": {
    "ExecuteTime": {
     "end_time": "2020-09-30T11:35:30.360896Z",
     "start_time": "2020-09-30T11:35:30.352372Z"
    }
   },
   "outputs": [
    {
     "name": "stdout",
     "output_type": "stream",
     "text": [
      "Prediction by model 1:  ['Iris-virginica' 'Iris-virginica' 'Iris-versicolor' 'Iris-virginica'\n",
      " 'Iris-versicolor']\n",
      "\n",
      "Actual Labels: \n",
      " 11     Iris-setosa   \n",
      "113    Iris-virginica\n",
      "123    Iris-virginica\n",
      "12     Iris-setosa   \n",
      "2      Iris-setosa   \n",
      "Name: species, dtype: object\n",
      "Pred is ['Iris-setosa']\n"
     ]
    }
   ],
   "source": [
    "print(\"Prediction by model 1: \", lr.predict(X_train.iloc[10:15]))\n",
    "print(\"\\nActual Labels: \\n\", y_train.iloc[15:20])\n",
    "print('Pred is', lr.predict([[3, 5, 4, 2]]))"
   ]
  },
  {
   "cell_type": "code",
   "execution_count": 16,
   "metadata": {
    "ExecuteTime": {
     "end_time": "2020-09-30T11:35:30.404514Z",
     "start_time": "2020-09-30T11:35:30.362900Z"
    }
   },
   "outputs": [
    {
     "name": "stdout",
     "output_type": "stream",
     "text": [
      "Prediction by model 2:  ['Iris-setosa' 'Iris-virginica' 'Iris-virginica' 'Iris-setosa'\n",
      " 'Iris-setosa']\n",
      "\n",
      "Actual Labels: \n",
      " 11     Iris-setosa   \n",
      "113    Iris-virginica\n",
      "123    Iris-virginica\n",
      "12     Iris-setosa   \n",
      "2      Iris-setosa   \n",
      "Name: species, dtype: object\n",
      "Pred is ['Iris-versicolor']\n"
     ]
    }
   ],
   "source": [
    "print(\"Prediction by model 2: \", rfcl.predict(X_train.iloc[15:20]))\n",
    "print(\"\\nActual Labels: \\n\",y_train.iloc[15:20])\n",
    "print('Pred is',  rfcl.predict([[3, 5, 4, 2]]))"
   ]
  },
  {
   "cell_type": "markdown",
   "metadata": {},
   "source": [
    "# Model Evaluation"
   ]
  },
  {
   "cell_type": "markdown",
   "metadata": {},
   "source": [
    "### Accuracy Score\n",
    "Accuracy score is a measure of predictions' correctness.    \n",
    "A higher values is desired.    \n",
    "Here **accuracy_score** method is used to calculate the accuracy.   "
   ]
  },
  {
   "cell_type": "code",
   "execution_count": 17,
   "metadata": {
    "ExecuteTime": {
     "end_time": "2020-09-30T11:35:30.411028Z",
     "start_time": "2020-09-30T11:35:30.406517Z"
    }
   },
   "outputs": [
    {
     "name": "stdout",
     "output_type": "stream",
     "text": [
      "Logistic Regression:  0.9777777777777777\n",
      "Random Forest:  0.9555555555555556\n"
     ]
    }
   ],
   "source": [
    "print(\"Logistic Regression: \",accuracy_score(y_pred_lr, y_test))\n",
    "print(\"Random Forest: \", accuracy_score(y_pred_rf, y_test))"
   ]
  },
  {
   "cell_type": "markdown",
   "metadata": {},
   "source": [
    "### Confusion Matrix    \n",
    "A confusion matrix is a summary of prediction results on a classification problem.  \n",
    "Here **confusion_matrix** method is used to calculate the accuracy.     \n",
    "While predicting any value, we can have four possible outcomes:\n",
    "1. True positive\n",
    "1. True negative\n",
    "1. False positive\n",
    "1. False negative\n",
    "\n",
    "The last two are highly undesirable.     \n",
    "A good measure would be only non-zero values on the diagonal from top left to bottom right."
   ]
  },
  {
   "cell_type": "code",
   "execution_count": 18,
   "metadata": {
    "ExecuteTime": {
     "end_time": "2020-09-30T11:35:30.426571Z",
     "start_time": "2020-09-30T11:35:30.413034Z"
    }
   },
   "outputs": [
    {
     "name": "stdout",
     "output_type": "stream",
     "text": [
      "Logistic Regression: \n",
      " [[14  0  0]\n",
      " [ 0 17  0]\n",
      " [ 0  1 13]]\n",
      "\n",
      "Random Forest: \n",
      " [[14  0  0]\n",
      " [ 0 17  1]\n",
      " [ 0  1 12]]\n"
     ]
    }
   ],
   "source": [
    "print(\"Logistic Regression: \\n\",confusion_matrix(y_pred_lr, y_test))\n",
    "print(\"\\nRandom Forest: \\n\",confusion_matrix(y_pred_rf, y_test))"
   ]
  },
  {
   "cell_type": "markdown",
   "metadata": {},
   "source": [
    "### Classification Report    \n",
    "Here we are showing the main classification metrics.     \n",
    "\n",
    "```     \n",
    "TP – True Positives           \n",
    "TN – True Negatives\n",
    "FP – False Positives           \n",
    "FN – False Negatives                  \n",
    "\n",
    "Precision – Accuracy of positive predictions.                  \n",
    "Precision = TP/(TP + FP)     \n",
    "\n",
    "Recall: Fraction of positives that were correctly identified.                          \n",
    "Recall = TP/(TP+FN)                       \n",
    "\n",
    "F1 Score = 2*(Recall * Precision) / (Recall + Precision)\n",
    "\n",
    "Support is the number of actual occurrences of the class in the specified dataset\n",
    "\n",
    "```"
   ]
  },
  {
   "cell_type": "code",
   "execution_count": 19,
   "metadata": {
    "ExecuteTime": {
     "end_time": "2020-09-30T11:35:30.453682Z",
     "start_time": "2020-09-30T11:35:30.429111Z"
    }
   },
   "outputs": [
    {
     "name": "stdout",
     "output_type": "stream",
     "text": [
      "Logistic Regression: \n",
      "                  precision    recall  f1-score   support\n",
      "\n",
      "    Iris-setosa       1.00      1.00      1.00        14\n",
      "Iris-versicolor       0.94      1.00      0.97        17\n",
      " Iris-virginica       1.00      0.93      0.96        14\n",
      "\n",
      "       accuracy                           0.98        45\n",
      "      macro avg       0.98      0.98      0.98        45\n",
      "   weighted avg       0.98      0.98      0.98        45\n",
      "\n",
      "\n",
      "Random Forest: \n",
      "                  precision    recall  f1-score   support\n",
      "\n",
      "    Iris-setosa       1.00      1.00      1.00        14\n",
      "Iris-versicolor       0.94      0.94      0.94        18\n",
      " Iris-virginica       0.92      0.92      0.92        13\n",
      "\n",
      "       accuracy                           0.96        45\n",
      "      macro avg       0.96      0.96      0.96        45\n",
      "   weighted avg       0.96      0.96      0.96        45\n",
      "\n"
     ]
    }
   ],
   "source": [
    "print(\"Logistic Regression: \\n\",classification_report(y_pred_lr, y_test))\n",
    "print(\"\\nRandom Forest: \\n\",classification_report(y_pred_rf, y_test))"
   ]
  }
 ],
 "metadata": {
  "kernelspec": {
   "display_name": "Python 3",
   "language": "python",
   "name": "python3"
  },
  "language_info": {
   "codemirror_mode": {
    "name": "ipython",
    "version": 3
   },
   "file_extension": ".py",
   "mimetype": "text/x-python",
   "name": "python",
   "nbconvert_exporter": "python",
   "pygments_lexer": "ipython3",
   "version": "3.7.6"
  },
  "latex_envs": {
   "LaTeX_envs_menu_present": true,
   "autoclose": false,
   "autocomplete": true,
   "bibliofile": "biblio.bib",
   "cite_by": "apalike",
   "current_citInitial": 1,
   "eqLabelWithNumbers": true,
   "eqNumInitial": 1,
   "hotkeys": {
    "equation": "Ctrl-E",
    "itemize": "Ctrl-I"
   },
   "labels_anchors": false,
   "latex_user_defs": false,
   "report_style_numbering": false,
   "user_envs_cfg": false
  }
 },
 "nbformat": 4,
 "nbformat_minor": 4
}
